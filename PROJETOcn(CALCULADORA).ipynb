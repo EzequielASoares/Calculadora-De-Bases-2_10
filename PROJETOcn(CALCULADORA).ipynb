{
  "cells": [
    {
      "cell_type": "markdown",
      "id": "cb2669f0",
      "metadata": {
        "id": "cb2669f0"
      },
      "source": [
        "# Calculadora de Soma e Multiplicação em Bases Diferentes\n",
        "Aluno: Ezequiel Amador Soares Junior\n",
        "\n",
        "Este notebook implementa uma calculadora que realiza operações de soma e multiplicação entre números em diferentes bases, sem utilizar a base 10 como ponte intermediária. A implementação é feita de forma que as operações são realizadas diretamente nas bases dos números.\n",
        "\n",
        "A calculadora possui duas operações principais:\n",
        "1. Soma em qualquer base.\n",
        "2. Multiplicação em qualquer base.\n",
        "\n",
        "Cada operação é desenvolvida para lidar com a lógica específica de cada base, manipulando os valores diretamente de acordo com suas bases e ajustando os \"carries\" conforme necessário.\n",
        "\n",
        "**observação: esta calculadora se faz usável até a base decimal, bases maiores necessitam de caracteres como letras para representar números que vão além do 0 a 9!**"
      ]
    },
    {
      "cell_type": "markdown",
      "id": "df468b06",
      "metadata": {
        "id": "df468b06"
      },
      "source": [
        "\n",
        "## Função `soma_base`\n",
        "A função `soma_base` realiza a **soma de dois números** em uma base especificada. Abaixo estão as etapas para entender como ela funciona:\n",
        "1. **Ajuste dos Números**: Primeiro, igualamos o tamanho dos números para que a soma seja feita dígito a dígito.\n",
        "2. **Soma Dígito por Dígito**: Começamos somando da direita para a esquerda, somando cada par de dígitos junto com um valor de \"carry\" (ou vai um) se necessário.\n",
        "3. **Carry**: Caso o valor da soma ultrapasse a base, subtraímos a base do valor para manter o dígito no limite e carregamos o restante para a próxima posição.\n",
        "4. **Resultado**: No final, obtemos o número final na base desejada.\n",
        "\n",
        "### Código:\n"
      ]
    },
    {
      "cell_type": "code",
      "execution_count": 1,
      "id": "e34a4d35",
      "metadata": {
        "id": "e34a4d35"
      },
      "outputs": [],
      "source": [
        "\n",
        "def soma_base(num1, num2, base):\n",
        "    max_len = max(len(num1), len(num2))\n",
        "    num1 = num1.zfill(max_len)\n",
        "    num2 = num2.zfill(max_len)\n",
        "\n",
        "    carry = 0\n",
        "    resultado = ''\n",
        "\n",
        "    for i in range(max_len - 1, -1, -1):\n",
        "        soma = int(num1[i]) + int(num2[i]) + carry\n",
        "        if soma >= base:\n",
        "            carry = 1\n",
        "            soma -= base\n",
        "        else:\n",
        "            carry = 0\n",
        "        resultado = str(soma) + resultado\n",
        "\n",
        "    if carry:\n",
        "        resultado = '1' + resultado\n",
        "\n",
        "    return resultado\n"
      ]
    },
    {
      "cell_type": "markdown",
      "id": "fa787b17",
      "metadata": {
        "id": "fa787b17"
      },
      "source": [
        "\n",
        "## Função `multiplica_base`\n",
        "A função `multiplica_base` realiza a **multiplicação de dois números** em qualquer base, sem converter para a base 10. Abaixo estão os passos principais:\n",
        "1. **Multiplicação Dígito a Dígito**: Cada dígito do primeiro número é multiplicado por cada dígito do segundo número.\n",
        "2. **Posicionamento e Carry**: Os produtos parciais são acumulados na posição correta e ajustados caso ultrapassem o valor da base.\n",
        "3. **Resultado Final**: Soma os produtos parciais para dar o resultado final na base.\n",
        "\n",
        "### Código:\n"
      ]
    },
    {
      "cell_type": "code",
      "execution_count": 2,
      "id": "767a3a1c",
      "metadata": {
        "id": "767a3a1c"
      },
      "outputs": [],
      "source": [
        "\n",
        "def multiplica_base(num1, num2, base):\n",
        "    resultados_parciais = []\n",
        "\n",
        "    num1 = num1[::-1]\n",
        "    num2 = num2[::-1]\n",
        "\n",
        "    for i in range(len(num1)):\n",
        "        linha = ''\n",
        "        carry = 0\n",
        "\n",
        "        for j in range(len(num2)):\n",
        "            produto = int(num1[i]) * int(num2[j]) + carry\n",
        "\n",
        "            if produto >= base:\n",
        "                carry = produto // base\n",
        "                produto %= base\n",
        "            else:\n",
        "                carry = 0\n",
        "\n",
        "            linha = str(produto) + linha\n",
        "\n",
        "        if carry > 0:\n",
        "            linha = str(carry) + linha\n",
        "\n",
        "        linha += '0' * i\n",
        "        resultados_parciais.append(linha)\n",
        "\n",
        "    resultado = '0'\n",
        "    for parcial in resultados_parciais:\n",
        "        resultado = soma_base(resultado, parcial, base)\n",
        "\n",
        "    return resultado\n"
      ]
    },
    {
      "cell_type": "markdown",
      "id": "71adfa08",
      "metadata": {
        "id": "71adfa08"
      },
      "source": [
        "\n",
        "## Função `calculadora`\n",
        "A função `calculadora` é a função principal que controla o fluxo de operações. Ela:\n",
        "1. Recebe as bases dos dois números, os números e a operação desejada.\n",
        "2. Chama a função de soma ou multiplicação conforme a operação e retorna o resultado.\n",
        "\n",
        "### Código:\n"
      ]
    },
    {
      "cell_type": "code",
      "execution_count": 3,
      "id": "29e5a6a7",
      "metadata": {
        "id": "29e5a6a7"
      },
      "outputs": [],
      "source": [
        "\n",
        "def calculadora(base1, num1, base2, num2, operacao):\n",
        "    if base1 != base2:\n",
        "        raise ValueError(\"As bases dos números devem ser iguais para realizar a operação.\")\n",
        "\n",
        "    if operacao == 'soma':\n",
        "        return soma_base(num1, num2, base1)\n",
        "    elif operacao == 'multiplicacao':\n",
        "        return multiplica_base(num1, num2, base1)\n",
        "    else:\n",
        "        raise ValueError(\"Operação inválida! Use 'soma' ou 'multiplicacao'.\")\n"
      ]
    },
    {
      "cell_type": "markdown",
      "id": "1acd726d",
      "metadata": {
        "id": "1acd726d"
      },
      "source": [
        "\n",
        "## Testando a Calculadora\n",
        "Podemos agora testar a calculadora para verificar se ela está funcionando corretamente em diferentes bases.\n"
      ]
    },
    {
      "cell_type": "code",
      "execution_count": 9,
      "id": "30634e80",
      "metadata": {
        "colab": {
          "base_uri": "https://localhost:8080/"
        },
        "id": "30634e80",
        "outputId": "bc0e3694-e082-42d8-da74-dedab54c2557"
      },
      "outputs": [
        {
          "output_type": "stream",
          "name": "stdout",
          "text": [
            "Soma na base 5 de 24 + 13: 42\n",
            "Multiplicação na base 5 de 12 * 3: 41\n"
          ]
        }
      ],
      "source": [
        "\n",
        "# Teste de soma na base 5\n",
        "print(\"Soma na base 5 de 24 + 13:\", calculadora(5, '24', 5, '13', 'soma'))\n",
        "\n",
        "# Teste de multiplicação na base 5\n",
        "print(\"Multiplicação na base 5 de 12 * 3:\", calculadora(5, '12', 5, '3', 'multiplicacao'))\n"
      ]
    },
    {
      "cell_type": "markdown",
      "id": "814dc18e",
      "metadata": {
        "id": "814dc18e"
      },
      "source": [
        "\n",
        "### Conclusão\n",
        "Este notebook demonstrou como implementar uma calculadora em Python para realizar operações de soma e multiplicação diretamente em bases específicas. Utilizamos a lógica de \"carry\" para manter os dígitos dentro dos limites da base, sem converter para base 10.\n"
      ]
    }
  ],
  "metadata": {
    "colab": {
      "provenance": []
    },
    "language_info": {
      "name": "python"
    },
    "kernelspec": {
      "name": "python3",
      "display_name": "Python 3"
    }
  },
  "nbformat": 4,
  "nbformat_minor": 5
}